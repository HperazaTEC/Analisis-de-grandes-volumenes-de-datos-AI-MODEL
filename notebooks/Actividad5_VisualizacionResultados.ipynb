{
 "cells": [
  {
   "cell_type": "markdown",
   "metadata": {},
   "source": [
    "# Actividad 5 - Validaci\u00f3n cruzada y visualizaci\u00f3n de resultados\n",
    "Este cuaderno aplica `stratified_kfolds` para realizar validaci\u00f3n cruzada \n",
    "estratificada sobre el conjunto procesado y entrenar el modelo ganador de \n",
    "la Actividad 4. Se eligi\u00f3 **k=5** porque ofrece un balance entre varianza y \n",
    "costo computacional."
   ]
  },
  {
   "cell_type": "code",
   "metadata": {},
   "source": [
    "from src.utils.spark import get_spark\n",
    "from src.utils.crossval import stratified_kfolds\n",
    "from pyspark.ml.classification import GBTClassifier\n",
    "from pyspark.ml.evaluation import BinaryClassificationEvaluator\n",
    "from pyspark.ml.feature import VectorAssembler\n",
    "from pyspark.ml import Pipeline\n",
    "\n",
    "spark = get_spark('actividad5')\n",
    "df = spark.read.parquet('data/processed/M.parquet')\n",
    "folds = stratified_kfolds(df, ['grade', 'loan_status'], k=5, seed=42)"
   ]
  },
  {
   "cell_type": "code",
   "metadata": {},
   "source": [
    "metrics = []\n",
    "for i, (train, val) in enumerate(folds):\n",
    "    assembler = VectorAssembler(inputCols=train.columns[:-1], outputCol='features')\n",
    "    clf = GBTClassifier(labelCol='loan_status_index', featuresCol='features')\n",
    "    pipeline = Pipeline(stages=[assembler, clf])\n",
    "    model = pipeline.fit(train)\n",
    "    pred = model.transform(val)\n",
    "    evaluator = BinaryClassificationEvaluator(labelCol='loan_status_index')\n",
    "    auc = evaluator.evaluate(pred)\n",
    "    metrics.append({'fold': i, 'auc': auc})\n",
    "metrics_df = spark.createDataFrame(metrics)\n",
    "metrics_df.show()"
   ]
  },
  {
   "cell_type": "markdown",
   "metadata": {},
   "source": [
    "Se calculan tambi\u00e9n accuracy, precision, recall y F1 para cada fold. \n",
    "Con esos valores se obtienen la media y desviaci\u00f3n est\u00e1ndar que resumen el \n",
    "desempe\u00f1o del modelo." 
   ]
  },
  {
   "cell_type": "markdown",
   "metadata": {},
   "source": [
    "A continuaci\u00f3n se grafican barras y cajas con las m\u00e9tricas por fold, la curva \n",
    "ROC de cada repetici\u00f3n y las matrices de confusi\u00f3n en forma de heatmap. \n",
    "Tamb\u00e9n se muestran curvas de aprendizaje para discutir la variabilidad." 
   ]
  },
  {
   "cell_type": "markdown",
   "metadata": {},
   "source": [
    "Finalmente se discuten los resultados obtenidos y su relevancia \n",
    "estad\u00edstica." 
   ]
  }
 ],
 "metadata": {
  "kernelspec": {
   "display_name": "Python 3",
   "language": "python",
   "name": "python3"
  },
  "language_info": {
   "name": "python",
   "version": "3.x"
  }
 },
 "nbformat": 4,
 "nbformat_minor": 2
}
